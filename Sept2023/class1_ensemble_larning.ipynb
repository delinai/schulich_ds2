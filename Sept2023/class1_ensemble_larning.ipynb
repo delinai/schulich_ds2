{
 "cells": [
  {
   "cell_type": "markdown",
   "metadata": {},
   "source": [
    "In this notebook, we will demonstrate the concept of ensemble learning. With ensemble models, we combine multiple models together to create a more accurate prediction."
   ]
  },
  {
   "cell_type": "code",
   "execution_count": 1,
   "metadata": {},
   "outputs": [],
   "source": [
    "import numpy as np\n",
    "from sklearn import datasets\n",
    "from sklearn.model_selection import train_test_split\n",
    "from sklearn.tree import DecisionTreeClassifier\n",
    "from sklearn.metrics import accuracy_score\n",
    "from sklearn.pipeline import Pipeline\n",
    "from sklearn.preprocessing import StandardScaler\n",
    "\n",
    "# Load the dataset\n",
    "iris = datasets.load_iris()\n",
    "X, y = iris.data, iris.target\n",
    "X_train, X_test, y_train, y_test = train_test_split(X, y, test_size=0.3, random_state=42)\n",
    "\n",
    "\n",
    "\n"
   ]
  },
  {
   "cell_type": "code",
   "execution_count": 3,
   "metadata": {},
   "outputs": [],
   "source": [
    "# Pipeline: Integrate preprocessing into the training process\n",
    "pipeline = Pipeline([\n",
    "    ('scaler', StandardScaler()),\n",
    "    ('clf', DecisionTreeClassifier())\n",
    "])\n",
    "\n",
    "# Number of bootstrap samples and trees in the ensemble\n",
    "n_samples = len(X_train)\n",
    "n_trees = 50\n",
    "\n",
    "def bootstrap_sample(X, y):\n",
    "    indices = np.random.choice(len(X), size=len(X), replace=True)\n",
    "    return X[indices], y[indices]\n",
    "\n"
   ]
  },
  {
   "cell_type": "code",
   "execution_count": 4,
   "metadata": {},
   "outputs": [],
   "source": [
    "# Train multiple decision trees on different bootstrap samples\n",
    "trees = []\n",
    "for _ in range(n_trees):\n",
    "    X_sample, y_sample = bootstrap_sample(X_train, y_train)\n",
    "    \n",
    "    # Clone the pipeline for each tree\n",
    "    cloned_pipeline = Pipeline(steps=[('scaler', StandardScaler()), ('clf', DecisionTreeClassifier())])\n",
    "    cloned_pipeline.fit(X_sample, y_sample)\n",
    "    trees.append(cloned_pipeline)\n",
    "\n"
   ]
  },
  {
   "cell_type": "code",
   "execution_count": 8,
   "metadata": {},
   "outputs": [
    {
     "data": {
      "text/plain": [
       "[Pipeline(steps=[('scaler', StandardScaler()),\n",
       "                 ('clf', DecisionTreeClassifier())]),\n",
       " Pipeline(steps=[('scaler', StandardScaler()),\n",
       "                 ('clf', DecisionTreeClassifier())]),\n",
       " Pipeline(steps=[('scaler', StandardScaler()),\n",
       "                 ('clf', DecisionTreeClassifier())]),\n",
       " Pipeline(steps=[('scaler', StandardScaler()),\n",
       "                 ('clf', DecisionTreeClassifier())]),\n",
       " Pipeline(steps=[('scaler', StandardScaler()),\n",
       "                 ('clf', DecisionTreeClassifier())]),\n",
       " Pipeline(steps=[('scaler', StandardScaler()),\n",
       "                 ('clf', DecisionTreeClassifier())]),\n",
       " Pipeline(steps=[('scaler', StandardScaler()),\n",
       "                 ('clf', DecisionTreeClassifier())]),\n",
       " Pipeline(steps=[('scaler', StandardScaler()),\n",
       "                 ('clf', DecisionTreeClassifier())]),\n",
       " Pipeline(steps=[('scaler', StandardScaler()),\n",
       "                 ('clf', DecisionTreeClassifier())]),\n",
       " Pipeline(steps=[('scaler', StandardScaler()),\n",
       "                 ('clf', DecisionTreeClassifier())]),\n",
       " Pipeline(steps=[('scaler', StandardScaler()),\n",
       "                 ('clf', DecisionTreeClassifier())]),\n",
       " Pipeline(steps=[('scaler', StandardScaler()),\n",
       "                 ('clf', DecisionTreeClassifier())]),\n",
       " Pipeline(steps=[('scaler', StandardScaler()),\n",
       "                 ('clf', DecisionTreeClassifier())]),\n",
       " Pipeline(steps=[('scaler', StandardScaler()),\n",
       "                 ('clf', DecisionTreeClassifier())]),\n",
       " Pipeline(steps=[('scaler', StandardScaler()),\n",
       "                 ('clf', DecisionTreeClassifier())]),\n",
       " Pipeline(steps=[('scaler', StandardScaler()),\n",
       "                 ('clf', DecisionTreeClassifier())]),\n",
       " Pipeline(steps=[('scaler', StandardScaler()),\n",
       "                 ('clf', DecisionTreeClassifier())]),\n",
       " Pipeline(steps=[('scaler', StandardScaler()),\n",
       "                 ('clf', DecisionTreeClassifier())]),\n",
       " Pipeline(steps=[('scaler', StandardScaler()),\n",
       "                 ('clf', DecisionTreeClassifier())]),\n",
       " Pipeline(steps=[('scaler', StandardScaler()),\n",
       "                 ('clf', DecisionTreeClassifier())]),\n",
       " Pipeline(steps=[('scaler', StandardScaler()),\n",
       "                 ('clf', DecisionTreeClassifier())]),\n",
       " Pipeline(steps=[('scaler', StandardScaler()),\n",
       "                 ('clf', DecisionTreeClassifier())]),\n",
       " Pipeline(steps=[('scaler', StandardScaler()),\n",
       "                 ('clf', DecisionTreeClassifier())]),\n",
       " Pipeline(steps=[('scaler', StandardScaler()),\n",
       "                 ('clf', DecisionTreeClassifier())]),\n",
       " Pipeline(steps=[('scaler', StandardScaler()),\n",
       "                 ('clf', DecisionTreeClassifier())]),\n",
       " Pipeline(steps=[('scaler', StandardScaler()),\n",
       "                 ('clf', DecisionTreeClassifier())]),\n",
       " Pipeline(steps=[('scaler', StandardScaler()),\n",
       "                 ('clf', DecisionTreeClassifier())]),\n",
       " Pipeline(steps=[('scaler', StandardScaler()),\n",
       "                 ('clf', DecisionTreeClassifier())]),\n",
       " Pipeline(steps=[('scaler', StandardScaler()),\n",
       "                 ('clf', DecisionTreeClassifier())]),\n",
       " Pipeline(steps=[('scaler', StandardScaler()),\n",
       "                 ('clf', DecisionTreeClassifier())]),\n",
       " Pipeline(steps=[('scaler', StandardScaler()),\n",
       "                 ('clf', DecisionTreeClassifier())]),\n",
       " Pipeline(steps=[('scaler', StandardScaler()),\n",
       "                 ('clf', DecisionTreeClassifier())]),\n",
       " Pipeline(steps=[('scaler', StandardScaler()),\n",
       "                 ('clf', DecisionTreeClassifier())]),\n",
       " Pipeline(steps=[('scaler', StandardScaler()),\n",
       "                 ('clf', DecisionTreeClassifier())]),\n",
       " Pipeline(steps=[('scaler', StandardScaler()),\n",
       "                 ('clf', DecisionTreeClassifier())]),\n",
       " Pipeline(steps=[('scaler', StandardScaler()),\n",
       "                 ('clf', DecisionTreeClassifier())]),\n",
       " Pipeline(steps=[('scaler', StandardScaler()),\n",
       "                 ('clf', DecisionTreeClassifier())]),\n",
       " Pipeline(steps=[('scaler', StandardScaler()),\n",
       "                 ('clf', DecisionTreeClassifier())]),\n",
       " Pipeline(steps=[('scaler', StandardScaler()),\n",
       "                 ('clf', DecisionTreeClassifier())]),\n",
       " Pipeline(steps=[('scaler', StandardScaler()),\n",
       "                 ('clf', DecisionTreeClassifier())]),\n",
       " Pipeline(steps=[('scaler', StandardScaler()),\n",
       "                 ('clf', DecisionTreeClassifier())]),\n",
       " Pipeline(steps=[('scaler', StandardScaler()),\n",
       "                 ('clf', DecisionTreeClassifier())]),\n",
       " Pipeline(steps=[('scaler', StandardScaler()),\n",
       "                 ('clf', DecisionTreeClassifier())]),\n",
       " Pipeline(steps=[('scaler', StandardScaler()),\n",
       "                 ('clf', DecisionTreeClassifier())]),\n",
       " Pipeline(steps=[('scaler', StandardScaler()),\n",
       "                 ('clf', DecisionTreeClassifier())]),\n",
       " Pipeline(steps=[('scaler', StandardScaler()),\n",
       "                 ('clf', DecisionTreeClassifier())]),\n",
       " Pipeline(steps=[('scaler', StandardScaler()),\n",
       "                 ('clf', DecisionTreeClassifier())]),\n",
       " Pipeline(steps=[('scaler', StandardScaler()),\n",
       "                 ('clf', DecisionTreeClassifier())]),\n",
       " Pipeline(steps=[('scaler', StandardScaler()),\n",
       "                 ('clf', DecisionTreeClassifier())]),\n",
       " Pipeline(steps=[('scaler', StandardScaler()),\n",
       "                 ('clf', DecisionTreeClassifier())])]"
      ]
     },
     "execution_count": 8,
     "metadata": {},
     "output_type": "execute_result"
    }
   ],
   "source": [
    "trees"
   ]
  },
  {
   "cell_type": "code",
   "execution_count": 5,
   "metadata": {},
   "outputs": [],
   "source": [
    "# Aggregate predictions\n",
    "predictions = np.zeros((len(X_test), n_trees))\n",
    "for tree_index, tree in enumerate(trees):\n",
    "    predictions[:, tree_index] = tree.predict(X_test)\n",
    "\n"
   ]
  },
  {
   "cell_type": "code",
   "execution_count": 9,
   "metadata": {},
   "outputs": [
    {
     "data": {
      "text/plain": [
       "array([[1., 1., 1., ..., 1., 1., 1.],\n",
       "       [0., 0., 0., ..., 0., 0., 0.],\n",
       "       [2., 2., 2., ..., 2., 2., 2.],\n",
       "       ...,\n",
       "       [1., 1., 1., ..., 1., 1., 1.],\n",
       "       [0., 0., 0., ..., 0., 0., 0.],\n",
       "       [0., 0., 0., ..., 0., 0., 0.]])"
      ]
     },
     "execution_count": 9,
     "metadata": {},
     "output_type": "execute_result"
    }
   ],
   "source": [
    "predictions"
   ]
  },
  {
   "cell_type": "code",
   "execution_count": 6,
   "metadata": {},
   "outputs": [],
   "source": [
    "# Majority vote\n",
    "y_pred = np.apply_along_axis(lambda x: np.bincount(x).argmax(), axis=1, arr=predictions.astype('int'))\n",
    "\n"
   ]
  },
  {
   "cell_type": "code",
   "execution_count": 7,
   "metadata": {},
   "outputs": [
    {
     "name": "stdout",
     "output_type": "stream",
     "text": [
      "Accuracy (Custom Bagged Trees): 100.00%\n"
     ]
    }
   ],
   "source": [
    "# Test accuracy\n",
    "print(f\"Accuracy (Custom Bagged Trees): {accuracy_score(y_test, y_pred)*100:.2f}%\")"
   ]
  },
  {
   "cell_type": "code",
   "execution_count": null,
   "metadata": {},
   "outputs": [],
   "source": []
  }
 ],
 "metadata": {
  "kernelspec": {
   "display_name": "Python 3",
   "language": "python",
   "name": "python3"
  },
  "language_info": {
   "codemirror_mode": {
    "name": "ipython",
    "version": 3
   },
   "file_extension": ".py",
   "mimetype": "text/x-python",
   "name": "python",
   "nbconvert_exporter": "python",
   "pygments_lexer": "ipython3",
   "version": "3.11.4"
  },
  "orig_nbformat": 4
 },
 "nbformat": 4,
 "nbformat_minor": 2
}
