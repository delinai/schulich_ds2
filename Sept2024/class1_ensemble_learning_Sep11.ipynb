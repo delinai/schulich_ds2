{
 "cells": [
  {
   "cell_type": "code",
   "execution_count": 31,
   "metadata": {},
   "outputs": [],
   "source": [
    "import pandas as pd\n",
    "import numpy as np\n",
    "from sklearn.model_selection import train_test_split\n",
    "from sklearn.tree import DecisionTreeClassifier\n",
    "from sklearn.metrics import precision_score, recall_score, accuracy_score\n",
    "import time # to measure how long the models take\n",
    "from sklearn import datasets\n",
    "import seaborn as sns\n",
    "from scipy.stats import mode\n"
   ]
  },
  {
   "cell_type": "code",
   "execution_count": 6,
   "metadata": {},
   "outputs": [],
   "source": [
    "# read the Titanic data set from seaborn\n",
    "data = sns.load_dataset('titanic')"
   ]
  },
  {
   "cell_type": "code",
   "execution_count": 7,
   "metadata": {},
   "outputs": [],
   "source": [
    "# drop columns\n",
    "df = data.drop(['deck','class','who','adult_male','embark_town','alive','alone'], axis=1)"
   ]
  },
  {
   "cell_type": "code",
   "execution_count": 8,
   "metadata": {},
   "outputs": [],
   "source": [
    "# fill in missing values for Age\n",
    "df['age'] = df['age'].fillna(df.groupby('sex')['age'].transform('mean'))"
   ]
  },
  {
   "cell_type": "code",
   "execution_count": 9,
   "metadata": {},
   "outputs": [],
   "source": [
    "# add total family size\n",
    "df['fam'] = df['parch'] + df['sibsp']"
   ]
  },
  {
   "cell_type": "markdown",
   "metadata": {},
   "source": []
  },
  {
   "cell_type": "code",
   "execution_count": 21,
   "metadata": {},
   "outputs": [],
   "source": [
    "df = pd.get_dummies(df,columns=['sex','embarked','pclass'],dtype=int)"
   ]
  },
  {
   "cell_type": "code",
   "execution_count": 22,
   "metadata": {},
   "outputs": [],
   "source": [
    "y = df[\"survived\"]\n",
    "X = df.drop(\"survived\", axis=1)"
   ]
  },
  {
   "cell_type": "code",
   "execution_count": 23,
   "metadata": {},
   "outputs": [],
   "source": [
    "X_train, X_test, y_train, y_test = train_test_split(X,y, test_size=0.2, random_state=42)"
   ]
  },
  {
   "cell_type": "code",
   "execution_count": 24,
   "metadata": {},
   "outputs": [
    {
     "name": "stdout",
     "output_type": "stream",
     "text": [
      "Selection 1: ['sex_female', 'pclass_2', 'parch']\n",
      "Selection 2: ['survived', 'embarked_Q', 'fare']\n",
      "Selection 3: ['fare', 'sex_male', 'sex_female']\n",
      "Selection 4: ['sibsp', 'embarked_Q', 'fam']\n",
      "Selection 5: ['pclass_1', 'sex_female', 'pclass_1']\n",
      "Selection 6: ['survived', 'parch', 'embarked_S']\n",
      "Selection 7: ['fare', 'pclass_2', 'pclass_1']\n",
      "Selection 8: ['age', 'embarked_C', 'sex_male']\n",
      "Selection 9: ['sex_female', 'parch', 'age']\n",
      "Selection 10: ['sibsp', 'fare', 'pclass_2']\n"
     ]
    }
   ],
   "source": [
    "# Get the list of all column names\n",
    "all_columns = df.columns.to_list()\n",
    "\n",
    "# Randomly select 3 columns with replacement\n",
    "random_selections = [np.random.choice(all_columns, 3, replace=True).tolist() for _ in range(10)]\n",
    "\n",
    "for idx, selection in enumerate(random_selections, 1):\n",
    "    print(f\"Selection {idx}: {selection}\")"
   ]
  },
  {
   "cell_type": "code",
   "execution_count": 25,
   "metadata": {},
   "outputs": [],
   "source": [
    "def build_decision_trees(X_train, y_train, num_models=10, num_columns=3):\n",
    "    \"\"\"\n",
    "    Build decision trees using random subsets of columns.\n",
    "    \n",
    "    Parameters:\n",
    "    - X_train: Training feature data.\n",
    "    - y_train: Training target data.\n",
    "    - num_models: Number of decision tree models to train.\n",
    "    - num_columns: Number of random columns to select for each tree.\n",
    "    \n",
    "    Returns:\n",
    "    - A list of trained decision tree models and their selected column sets.\n",
    "    \"\"\"\n",
    "    all_columns = X_train.columns.to_list()\n",
    "    models = []\n",
    "    \n",
    "    for _ in range(num_models):\n",
    "        # Randomly select `num_columns` columns\n",
    "        selected_columns = np.random.choice(all_columns, num_columns, replace=False).tolist()\n",
    "        \n",
    "        # Subset the training data for the selected columns\n",
    "        X_train_subset = X_train[selected_columns]\n",
    "        \n",
    "        # Build and train the decision tree classifier\n",
    "        tree = DecisionTreeClassifier(random_state=42)\n",
    "        tree.fit(X_train_subset, y_train)\n",
    "        \n",
    "        # Store the model and the selected columns\n",
    "        models.append((tree, selected_columns))\n",
    "    \n",
    "    return models"
   ]
  },
  {
   "cell_type": "code",
   "execution_count": 28,
   "metadata": {},
   "outputs": [],
   "source": [
    "models = build_decision_trees(X_train, y_train, num_models=50, num_columns=3)\n"
   ]
  },
  {
   "cell_type": "code",
   "execution_count": 29,
   "metadata": {},
   "outputs": [
    {
     "data": {
      "text/plain": [
       "[(DecisionTreeClassifier(random_state=42), ['pclass_3', 'embarked_S', 'fare']),\n",
       " (DecisionTreeClassifier(random_state=42), ['embarked_C', 'fare', 'pclass_3']),\n",
       " (DecisionTreeClassifier(random_state=42),\n",
       "  ['sex_male', 'pclass_1', 'sex_female']),\n",
       " (DecisionTreeClassifier(random_state=42),\n",
       "  ['pclass_1', 'parch', 'embarked_Q']),\n",
       " (DecisionTreeClassifier(random_state=42),\n",
       "  ['embarked_C', 'sibsp', 'pclass_2']),\n",
       " (DecisionTreeClassifier(random_state=42), ['pclass_3', 'fare', 'age']),\n",
       " (DecisionTreeClassifier(random_state=42), ['fam', 'sex_female', 'parch']),\n",
       " (DecisionTreeClassifier(random_state=42),\n",
       "  ['parch', 'embarked_Q', 'pclass_3']),\n",
       " (DecisionTreeClassifier(random_state=42), ['fam', 'sibsp', 'pclass_2']),\n",
       " (DecisionTreeClassifier(random_state=42), ['embarked_S', 'age', 'sibsp']),\n",
       " (DecisionTreeClassifier(random_state=42),\n",
       "  ['pclass_1', 'pclass_3', 'embarked_Q']),\n",
       " (DecisionTreeClassifier(random_state=42),\n",
       "  ['pclass_1', 'parch', 'embarked_Q']),\n",
       " (DecisionTreeClassifier(random_state=42),\n",
       "  ['pclass_3', 'embarked_Q', 'sex_female']),\n",
       " (DecisionTreeClassifier(random_state=42), ['sex_female', 'pclass_1', 'fam']),\n",
       " (DecisionTreeClassifier(random_state=42),\n",
       "  ['embarked_C', 'fare', 'embarked_Q']),\n",
       " (DecisionTreeClassifier(random_state=42), ['fare', 'parch', 'pclass_2']),\n",
       " (DecisionTreeClassifier(random_state=42), ['parch', 'sibsp', 'sex_female']),\n",
       " (DecisionTreeClassifier(random_state=42),\n",
       "  ['pclass_2', 'embarked_Q', 'parch']),\n",
       " (DecisionTreeClassifier(random_state=42), ['fam', 'sex_male', 'embarked_S']),\n",
       " (DecisionTreeClassifier(random_state=42),\n",
       "  ['embarked_C', 'sex_female', 'pclass_3']),\n",
       " (DecisionTreeClassifier(random_state=42), ['sex_female', 'pclass_1', 'fare']),\n",
       " (DecisionTreeClassifier(random_state=42), ['sex_female', 'age', 'pclass_3']),\n",
       " (DecisionTreeClassifier(random_state=42),\n",
       "  ['pclass_1', 'sex_female', 'parch']),\n",
       " (DecisionTreeClassifier(random_state=42), ['sex_female', 'age', 'sibsp']),\n",
       " (DecisionTreeClassifier(random_state=42),\n",
       "  ['pclass_3', 'sibsp', 'embarked_S']),\n",
       " (DecisionTreeClassifier(random_state=42),\n",
       "  ['pclass_3', 'sex_female', 'embarked_Q']),\n",
       " (DecisionTreeClassifier(random_state=42), ['pclass_2', 'fare', 'embarked_Q']),\n",
       " (DecisionTreeClassifier(random_state=42),\n",
       "  ['parch', 'pclass_2', 'embarked_C']),\n",
       " (DecisionTreeClassifier(random_state=42), ['age', 'parch', 'fare']),\n",
       " (DecisionTreeClassifier(random_state=42), ['age', 'sex_female', 'pclass_3']),\n",
       " (DecisionTreeClassifier(random_state=42),\n",
       "  ['embarked_S', 'sex_male', 'sibsp']),\n",
       " (DecisionTreeClassifier(random_state=42), ['pclass_1', 'pclass_2', 'fam']),\n",
       " (DecisionTreeClassifier(random_state=42), ['pclass_3', 'parch', 'pclass_1']),\n",
       " (DecisionTreeClassifier(random_state=42), ['pclass_3', 'fam', 'sex_female']),\n",
       " (DecisionTreeClassifier(random_state=42), ['pclass_3', 'sibsp', 'fare']),\n",
       " (DecisionTreeClassifier(random_state=42), ['sibsp', 'fare', 'embarked_S']),\n",
       " (DecisionTreeClassifier(random_state=42),\n",
       "  ['pclass_2', 'embarked_Q', 'sibsp']),\n",
       " (DecisionTreeClassifier(random_state=42), ['pclass_3', 'age', 'embarked_Q']),\n",
       " (DecisionTreeClassifier(random_state=42),\n",
       "  ['pclass_3', 'sex_male', 'embarked_Q']),\n",
       " (DecisionTreeClassifier(random_state=42), ['embarked_S', 'age', 'sibsp']),\n",
       " (DecisionTreeClassifier(random_state=42), ['fare', 'embarked_S', 'age']),\n",
       " (DecisionTreeClassifier(random_state=42),\n",
       "  ['embarked_C', 'pclass_2', 'sibsp']),\n",
       " (DecisionTreeClassifier(random_state=42), ['parch', 'age', 'pclass_1']),\n",
       " (DecisionTreeClassifier(random_state=42),\n",
       "  ['embarked_S', 'pclass_2', 'sex_male']),\n",
       " (DecisionTreeClassifier(random_state=42), ['fare', 'age', 'pclass_2']),\n",
       " (DecisionTreeClassifier(random_state=42), ['pclass_2', 'sex_male', 'age']),\n",
       " (DecisionTreeClassifier(random_state=42), ['age', 'embarked_Q', 'sex_male']),\n",
       " (DecisionTreeClassifier(random_state=42),\n",
       "  ['sex_female', 'embarked_Q', 'fare']),\n",
       " (DecisionTreeClassifier(random_state=42),\n",
       "  ['pclass_1', 'embarked_S', 'pclass_2']),\n",
       " (DecisionTreeClassifier(random_state=42), ['parch', 'sibsp', 'age'])]"
      ]
     },
     "execution_count": 29,
     "metadata": {},
     "output_type": "execute_result"
    }
   ],
   "source": [
    "models"
   ]
  },
  {
   "cell_type": "code",
   "execution_count": 32,
   "metadata": {},
   "outputs": [
    {
     "name": "stdout",
     "output_type": "stream",
     "text": [
      "Training Accuracy: 0.86\n"
     ]
    }
   ],
   "source": [
    "def measure_accuracy(models, X_train, y_train):\n",
    "    \"\"\"\n",
    "    Measure accuracy of the models on the training data.\n",
    "    \n",
    "    Parameters:\n",
    "    - models: List of models and their selected columns.\n",
    "    - X_train: Training feature data.\n",
    "    - y_train: True training labels.\n",
    "    \n",
    "    Returns:\n",
    "    - Overall accuracy of the ensemble model.\n",
    "    \"\"\"\n",
    "    # Store predictions for each model\n",
    "    predictions = []\n",
    "    \n",
    "    for tree, selected_columns in models:\n",
    "        # Use the selected columns to predict on the training data\n",
    "        X_train_subset = X_train[selected_columns]\n",
    "        pred = tree.predict(X_train_subset)\n",
    "        predictions.append(pred)\n",
    "    \n",
    "    # Transpose predictions to get predictions for each sample across all models\n",
    "    predictions = np.array(predictions).T\n",
    "    \n",
    "    # Majority vote across the 10 models for each sample\n",
    "    final_predictions, _ = mode(predictions, axis=1)\n",
    "    final_predictions = final_predictions.flatten()  # Convert to 1D array\n",
    "    \n",
    "    # Measure accuracy\n",
    "    accuracy = accuracy_score(y_train, final_predictions)\n",
    "    return accuracy\n",
    "\n",
    "# Measure accuracy on the training data\n",
    "train_accuracy = measure_accuracy(models, X_train, y_train)\n",
    "print(f\"Training Accuracy: {train_accuracy:.2f}\")\n"
   ]
  },
  {
   "cell_type": "code",
   "execution_count": 33,
   "metadata": {},
   "outputs": [
    {
     "name": "stdout",
     "output_type": "stream",
     "text": [
      "Test Accuracy: 0.81\n"
     ]
    }
   ],
   "source": [
    "def majority_vote_prediction(models, X_test):\n",
    "    \"\"\"\n",
    "    Apply the trained models on the test data and perform majority vote for final prediction.\n",
    "    \n",
    "    Parameters:\n",
    "    - models: List of trained models and their selected columns.\n",
    "    - X_test: Test feature data.\n",
    "    \n",
    "    Returns:\n",
    "    - Final predictions based on majority voting.\n",
    "    \"\"\"\n",
    "    # Store predictions for each model\n",
    "    predictions = []\n",
    "    \n",
    "    for tree, selected_columns in models:\n",
    "        # Use the selected columns to predict on the test data\n",
    "        X_test_subset = X_test[selected_columns]\n",
    "        pred = tree.predict(X_test_subset)\n",
    "        predictions.append(pred)\n",
    "    \n",
    "    # Transpose predictions to get predictions for each sample across all models\n",
    "    predictions = np.array(predictions).T\n",
    "    \n",
    "    # Majority vote across the models for each test sample\n",
    "    final_predictions, _ = mode(predictions, axis=1)\n",
    "    final_predictions = final_predictions.flatten()  # Convert to 1D array\n",
    "    \n",
    "    return final_predictions\n",
    "\n",
    "# Make predictions on the test data\n",
    "final_test_predictions = majority_vote_prediction(models, X_test)\n",
    "\n",
    "# Measure accuracy on the test data\n",
    "test_accuracy = accuracy_score(y_test, final_test_predictions)\n",
    "print(f\"Test Accuracy: {test_accuracy:.2f}\")\n"
   ]
  },
  {
   "cell_type": "code",
   "execution_count": null,
   "metadata": {},
   "outputs": [],
   "source": []
  }
 ],
 "metadata": {
  "kernelspec": {
   "display_name": "Python 3",
   "language": "python",
   "name": "python3"
  },
  "language_info": {
   "codemirror_mode": {
    "name": "ipython",
    "version": 3
   },
   "file_extension": ".py",
   "mimetype": "text/x-python",
   "name": "python",
   "nbconvert_exporter": "python",
   "pygments_lexer": "ipython3",
   "version": "3.9.6"
  }
 },
 "nbformat": 4,
 "nbformat_minor": 2
}
